{
 "cells": [
  {
   "cell_type": "code",
   "execution_count": 1,
   "metadata": {},
   "outputs": [],
   "source": [
    "import pandas as pd\n",
    "import numpy as np\n",
    "from dask import dataframe as dd\n",
    "import string\n",
    "import random\n",
    "import names\n",
    "from barnum import gen_data\n",
    "import Levenshtein as lev"
   ]
  },
  {
   "cell_type": "markdown",
   "metadata": {},
   "source": [
    "# Creating data"
   ]
  },
  {
   "cell_type": "code",
   "execution_count": 2,
   "metadata": {},
   "outputs": [],
   "source": [
    "def create_data(N=10):\n",
    "    name=[]\n",
    "    company=[]\n",
    "    email=[]\n",
    "    for i in range(N):\n",
    "        name.append(gen_data.create_name(full_name=False))\n",
    "        company.append(gen_data.create_company_name())\n",
    "        email.append(gen_data.create_email())\n",
    "    return name, company, email"
   ]
  },
  {
   "cell_type": "code",
   "execution_count": 3,
   "metadata": {},
   "outputs": [],
   "source": [
    "name, company, email = create_data(N=1000)"
   ]
  },
  {
   "cell_type": "code",
   "execution_count": 4,
   "metadata": {},
   "outputs": [],
   "source": [
    "df = pd.DataFrame({'ID':np.arange(1,1001,1), 'Name': name,\n",
    "                  'Company': company,\n",
    "                  'Email': email})"
   ]
  },
  {
   "cell_type": "code",
   "execution_count": 5,
   "metadata": {},
   "outputs": [],
   "source": [
    "data = dd.from_pandas(df, npartitions=1)"
   ]
  },
  {
   "cell_type": "code",
   "execution_count": 6,
   "metadata": {},
   "outputs": [
    {
     "data": {
      "text/html": [
       "<div>\n",
       "<style scoped>\n",
       "    .dataframe tbody tr th:only-of-type {\n",
       "        vertical-align: middle;\n",
       "    }\n",
       "\n",
       "    .dataframe tbody tr th {\n",
       "        vertical-align: top;\n",
       "    }\n",
       "\n",
       "    .dataframe thead th {\n",
       "        text-align: right;\n",
       "    }\n",
       "</style>\n",
       "<table border=\"1\" class=\"dataframe\">\n",
       "  <thead>\n",
       "    <tr style=\"text-align: right;\">\n",
       "      <th></th>\n",
       "      <th>ID</th>\n",
       "      <th>Name</th>\n",
       "      <th>Company</th>\n",
       "      <th>Email</th>\n",
       "    </tr>\n",
       "  </thead>\n",
       "  <tbody>\n",
       "    <tr>\n",
       "      <th>0</th>\n",
       "      <td>1</td>\n",
       "      <td>Socorro</td>\n",
       "      <td>Architecture Atlantic General</td>\n",
       "      <td>L.Champion@tincidunthendrerit.eu</td>\n",
       "    </tr>\n",
       "    <tr>\n",
       "      <th>1</th>\n",
       "      <td>2</td>\n",
       "      <td>Tammi</td>\n",
       "      <td>General Venture Electronic</td>\n",
       "      <td>Scot.Ortega@quisillum.net</td>\n",
       "    </tr>\n",
       "    <tr>\n",
       "      <th>2</th>\n",
       "      <td>3</td>\n",
       "      <td>Theodora</td>\n",
       "      <td>Star Application</td>\n",
       "      <td>Joey@etaccumsanea.info</td>\n",
       "    </tr>\n",
       "  </tbody>\n",
       "</table>\n",
       "</div>"
      ],
      "text/plain": [
       "   ID      Name                        Company  \\\n",
       "0   1   Socorro  Architecture Atlantic General   \n",
       "1   2     Tammi     General Venture Electronic   \n",
       "2   3  Theodora               Star Application   \n",
       "\n",
       "                              Email  \n",
       "0  L.Champion@tincidunthendrerit.eu  \n",
       "1         Scot.Ortega@quisillum.net  \n",
       "2            Joey@etaccumsanea.info  "
      ]
     },
     "execution_count": 6,
     "metadata": {},
     "output_type": "execute_result"
    }
   ],
   "source": [
    "data.head(3)"
   ]
  },
  {
   "cell_type": "markdown",
   "metadata": {},
   "source": [
    "# Search function "
   ]
  },
  {
   "cell_type": "code",
   "execution_count": 7,
   "metadata": {},
   "outputs": [],
   "source": [
    "# Dask dataframes have been used since the requirement for the task involves handling large amount of data. \n",
    "# Dask can enable efficient parallel computations on single machines by leveraging their multi-core CPUs\n",
    "# Dask provides ways to scale Pandas, Scikit-Learn, and Numpy workflows more natively, with minimal rewriting. \n",
    "# It integrates well with these tools so that it copies most of their API and uses their data structures internally"
   ]
  },
  {
   "cell_type": "code",
   "execution_count": 8,
   "metadata": {},
   "outputs": [],
   "source": [
    "def search_record(name, cat='name'):\n",
    "    '''\n",
    "    The function takes two arguments, one is the string by which you want to seach the data and the other one \n",
    "    is category which is 'name' or 'company'. Default for cat is display name\n",
    "    '''\n",
    "    zero=[]\n",
    "    one=[]\n",
    "    two=[]\n",
    "    three=[]\n",
    "    if cat == 'name':\n",
    "        for i in data['ID']:\n",
    "            distance = lev.distance(data[data['ID']==i]['Name'].head(1).reset_index(drop=True)[0].lower(),name.lower())\n",
    "            if distance == 0:\n",
    "                zero.append(i)\n",
    "            elif distance == 1:\n",
    "                one.append(i)\n",
    "            elif distance == 2:\n",
    "                two.append(i)\n",
    "            elif distance == 3:\n",
    "                three.append(i)\n",
    "    else:\n",
    "        for i in data['ID']:\n",
    "            distance = lev.distance(data[data['ID']==i]['Company'].head(1).reset_index(drop=True)[0].lower(),name.lower())\n",
    "            if distance == 0:\n",
    "                zero.append(i)\n",
    "            elif distance == 1:\n",
    "                one.append(i)\n",
    "            elif distance == 2:\n",
    "                two.append(i)\n",
    "            elif distance == 3:\n",
    "                three.append(i)\n",
    "                \n",
    "    final = zero+one+two+three\n",
    "    final_list = final[0:10]\n",
    "    df = data[data['ID'].isin(final_list)].compute()\n",
    "    df = df.sort_values(by='Name').reset_index(drop=True)\n",
    "    return df"
   ]
  },
  {
   "cell_type": "code",
   "execution_count": 9,
   "metadata": {},
   "outputs": [
    {
     "data": {
      "text/html": [
       "<div>\n",
       "<style scoped>\n",
       "    .dataframe tbody tr th:only-of-type {\n",
       "        vertical-align: middle;\n",
       "    }\n",
       "\n",
       "    .dataframe tbody tr th {\n",
       "        vertical-align: top;\n",
       "    }\n",
       "\n",
       "    .dataframe thead th {\n",
       "        text-align: right;\n",
       "    }\n",
       "</style>\n",
       "<table border=\"1\" class=\"dataframe\">\n",
       "  <thead>\n",
       "    <tr style=\"text-align: right;\">\n",
       "      <th></th>\n",
       "      <th>ID</th>\n",
       "      <th>Name</th>\n",
       "      <th>Company</th>\n",
       "      <th>Email</th>\n",
       "    </tr>\n",
       "  </thead>\n",
       "  <tbody>\n",
       "    <tr>\n",
       "      <th>0</th>\n",
       "      <td>183</td>\n",
       "      <td>Arlen</td>\n",
       "      <td>Electronics People</td>\n",
       "      <td>Bethany@blanditlobortis.gov</td>\n",
       "    </tr>\n",
       "    <tr>\n",
       "      <th>1</th>\n",
       "      <td>190</td>\n",
       "      <td>Carmen</td>\n",
       "      <td>Adventure People Federated</td>\n",
       "      <td>Bryce.Toler@nonummyeum.net</td>\n",
       "    </tr>\n",
       "    <tr>\n",
       "      <th>2</th>\n",
       "      <td>56</td>\n",
       "      <td>Daren</td>\n",
       "      <td>Internet Interactive Vision</td>\n",
       "      <td>Dwayne.Acevedo@tationat.com</td>\n",
       "    </tr>\n",
       "    <tr>\n",
       "      <th>3</th>\n",
       "      <td>153</td>\n",
       "      <td>Harley</td>\n",
       "      <td>Provider Virtual Solutions</td>\n",
       "      <td>K.Register@elitseddignissim.info</td>\n",
       "    </tr>\n",
       "    <tr>\n",
       "      <th>4</th>\n",
       "      <td>258</td>\n",
       "      <td>Harley</td>\n",
       "      <td>Provider Atlantic Adventure</td>\n",
       "      <td>T.Armstrong@suscipitet.eu</td>\n",
       "    </tr>\n",
       "    <tr>\n",
       "      <th>5</th>\n",
       "      <td>44</td>\n",
       "      <td>Kara</td>\n",
       "      <td>North Universal General</td>\n",
       "      <td>Cindi@laoreetdolor.com</td>\n",
       "    </tr>\n",
       "    <tr>\n",
       "      <th>6</th>\n",
       "      <td>269</td>\n",
       "      <td>Karina</td>\n",
       "      <td>Application Analysis Technology</td>\n",
       "      <td>D.Pinckney@teaugue.eu</td>\n",
       "    </tr>\n",
       "    <tr>\n",
       "      <th>7</th>\n",
       "      <td>107</td>\n",
       "      <td>Karrie</td>\n",
       "      <td>Future Design Alpha</td>\n",
       "      <td>Eileen@laoreetmolestie.eu</td>\n",
       "    </tr>\n",
       "    <tr>\n",
       "      <th>8</th>\n",
       "      <td>58</td>\n",
       "      <td>Kaye</td>\n",
       "      <td>Galaxy Hill</td>\n",
       "      <td>Jefferson.Nunez@enimea.com</td>\n",
       "    </tr>\n",
       "    <tr>\n",
       "      <th>9</th>\n",
       "      <td>126</td>\n",
       "      <td>Reed</td>\n",
       "      <td>Design Virtual Resource</td>\n",
       "      <td>Mitzi@praesentex.edu</td>\n",
       "    </tr>\n",
       "  </tbody>\n",
       "</table>\n",
       "</div>"
      ],
      "text/plain": [
       "    ID    Name                          Company  \\\n",
       "0  183   Arlen               Electronics People   \n",
       "1  190  Carmen       Adventure People Federated   \n",
       "2   56   Daren      Internet Interactive Vision   \n",
       "3  153  Harley       Provider Virtual Solutions   \n",
       "4  258  Harley      Provider Atlantic Adventure   \n",
       "5   44    Kara          North Universal General   \n",
       "6  269  Karina  Application Analysis Technology   \n",
       "7  107  Karrie              Future Design Alpha   \n",
       "8   58    Kaye                      Galaxy Hill   \n",
       "9  126    Reed          Design Virtual Resource   \n",
       "\n",
       "                              Email  \n",
       "0       Bethany@blanditlobortis.gov  \n",
       "1        Bryce.Toler@nonummyeum.net  \n",
       "2       Dwayne.Acevedo@tationat.com  \n",
       "3  K.Register@elitseddignissim.info  \n",
       "4         T.Armstrong@suscipitet.eu  \n",
       "5            Cindi@laoreetdolor.com  \n",
       "6             D.Pinckney@teaugue.eu  \n",
       "7         Eileen@laoreetmolestie.eu  \n",
       "8        Jefferson.Nunez@enimea.com  \n",
       "9              Mitzi@praesentex.edu  "
      ]
     },
     "execution_count": 9,
     "metadata": {},
     "output_type": "execute_result"
    }
   ],
   "source": [
    "search_record('Kareem')"
   ]
  },
  {
   "cell_type": "code",
   "execution_count": null,
   "metadata": {},
   "outputs": [],
   "source": []
  }
 ],
 "metadata": {
  "kernelspec": {
   "display_name": "Python 3",
   "language": "python",
   "name": "python3"
  },
  "language_info": {
   "codemirror_mode": {
    "name": "ipython",
    "version": 3
   },
   "file_extension": ".py",
   "mimetype": "text/x-python",
   "name": "python",
   "nbconvert_exporter": "python",
   "pygments_lexer": "ipython3",
   "version": "3.8.3"
  }
 },
 "nbformat": 4,
 "nbformat_minor": 4
}
