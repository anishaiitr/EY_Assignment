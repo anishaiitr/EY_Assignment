{
 "cells": [
  {
   "cell_type": "code",
   "execution_count": 1,
   "metadata": {},
   "outputs": [],
   "source": [
    "import pandas as pd\n",
    "import numpy as np\n",
    "from dask import dataframe as dd\n",
    "import string\n",
    "import random\n",
    "import names\n",
    "from barnum import gen_data\n",
    "import Levenshtein as lev"
   ]
  },
  {
   "cell_type": "markdown",
   "metadata": {},
   "source": [
    "# Creating data"
   ]
  },
  {
   "cell_type": "code",
   "execution_count": 2,
   "metadata": {},
   "outputs": [],
   "source": [
    "def create_data(N=10):\n",
    "    name=[]\n",
    "    company=[]\n",
    "    email=[]\n",
    "    for i in range(N):\n",
    "        name.append(gen_data.create_name(full_name=False))\n",
    "        company.append(gen_data.create_company_name())\n",
    "        email.append(gen_data.create_email())\n",
    "    return name, company, email"
   ]
  },
  {
   "cell_type": "code",
   "execution_count": 3,
   "metadata": {},
   "outputs": [],
   "source": [
    "name, company, email = create_data(N=1000)"
   ]
  },
  {
   "cell_type": "code",
   "execution_count": 5,
   "metadata": {},
   "outputs": [],
   "source": [
    "df = pd.DataFrame({'ID':np.arange(1,1001,1), 'Name': name,\n",
    "                  'Company': company,\n",
    "                  'Email': email})"
   ]
  },
  {
   "cell_type": "code",
   "execution_count": 6,
   "metadata": {},
   "outputs": [],
   "source": [
    "data = dd.from_pandas(df, npartitions=1)"
   ]
  },
  {
   "cell_type": "code",
   "execution_count": 7,
   "metadata": {},
   "outputs": [
    {
     "data": {
      "text/html": [
       "<div>\n",
       "<style scoped>\n",
       "    .dataframe tbody tr th:only-of-type {\n",
       "        vertical-align: middle;\n",
       "    }\n",
       "\n",
       "    .dataframe tbody tr th {\n",
       "        vertical-align: top;\n",
       "    }\n",
       "\n",
       "    .dataframe thead th {\n",
       "        text-align: right;\n",
       "    }\n",
       "</style>\n",
       "<table border=\"1\" class=\"dataframe\">\n",
       "  <thead>\n",
       "    <tr style=\"text-align: right;\">\n",
       "      <th></th>\n",
       "      <th>ID</th>\n",
       "      <th>Name</th>\n",
       "      <th>Company</th>\n",
       "      <th>Email</th>\n",
       "    </tr>\n",
       "  </thead>\n",
       "  <tbody>\n",
       "    <tr>\n",
       "      <th>0</th>\n",
       "      <td>1</td>\n",
       "      <td>Joanne</td>\n",
       "      <td>Virtual Max Analysis</td>\n",
       "      <td>T.Clements@veroUtwisi.tv</td>\n",
       "    </tr>\n",
       "    <tr>\n",
       "      <th>1</th>\n",
       "      <td>2</td>\n",
       "      <td>Stacey</td>\n",
       "      <td>Galaxy Architecture Contract</td>\n",
       "      <td>Zack.Newberry@facilisipraesent.gov</td>\n",
       "    </tr>\n",
       "    <tr>\n",
       "      <th>2</th>\n",
       "      <td>3</td>\n",
       "      <td>Ophelia</td>\n",
       "      <td>Data Star Max</td>\n",
       "      <td>Bethany@eratfeugait.info</td>\n",
       "    </tr>\n",
       "  </tbody>\n",
       "</table>\n",
       "</div>"
      ],
      "text/plain": [
       "   ID     Name                       Company  \\\n",
       "0   1   Joanne          Virtual Max Analysis   \n",
       "1   2   Stacey  Galaxy Architecture Contract   \n",
       "2   3  Ophelia                 Data Star Max   \n",
       "\n",
       "                                Email  \n",
       "0            T.Clements@veroUtwisi.tv  \n",
       "1  Zack.Newberry@facilisipraesent.gov  \n",
       "2            Bethany@eratfeugait.info  "
      ]
     },
     "execution_count": 7,
     "metadata": {},
     "output_type": "execute_result"
    }
   ],
   "source": [
    "data.head(3)"
   ]
  },
  {
   "cell_type": "markdown",
   "metadata": {},
   "source": [
    "# Search function "
   ]
  },
  {
   "cell_type": "code",
   "execution_count": null,
   "metadata": {},
   "outputs": [],
   "source": [
    "# Dask dataframes have been used since the requirement for the task involves handling large amount of data. \n",
    "# Dask can enable efficient parallel computations on single machines by leveraging their multi-core CPUs\n",
    "# Dask provides ways to scale Pandas, Scikit-Learn, and Numpy workflows more natively, with minimal rewriting. \n",
    "# It integrates well with these tools so that it copies most of their API and uses their data structures internally"
   ]
  },
  {
   "cell_type": "code",
   "execution_count": 8,
   "metadata": {},
   "outputs": [],
   "source": [
    "def search_record(name, cat='name'):\n",
    "    '''\n",
    "    The function takes two arguments, one is the string by which you want to seach the data and the other one \n",
    "    is category which is 'name' or 'company'. Default for cat is display name\n",
    "    '''\n",
    "    zero=[]\n",
    "    one=[]\n",
    "    two=[]\n",
    "    three=[]\n",
    "    if cat == 'name':\n",
    "        for i in data['ID']:\n",
    "            distance = lev.distance(data[data['ID']==i]['Name'].head(1).reset_index(drop=True)[0].lower(),name.lower())\n",
    "            if distance == 0:\n",
    "                zero.append(i)\n",
    "            elif distance == 1:\n",
    "                one.append(i)\n",
    "            elif distance == 2:\n",
    "                two.append(i)\n",
    "            elif distance == 3:\n",
    "                three.append(i)\n",
    "    else:\n",
    "        for i in data['ID']:\n",
    "            distance = lev.distance(data[data['ID']==i]['Company'].head(1).reset_index(drop=True)[0].lower(),name.lower())\n",
    "            if distance == 0:\n",
    "                zero.append(i)\n",
    "            elif distance == 1:\n",
    "                one.append(i)\n",
    "            elif distance == 2:\n",
    "                two.append(i)\n",
    "            elif distance == 3:\n",
    "                three.append(i)\n",
    "                \n",
    "    final = zero+one+two+three\n",
    "    final_list = final[0:10]\n",
    "    df = data[data['ID'].isin(final_list)].compute()\n",
    "    df = df.sort_values(by='Name').reset_index(drop=True)\n",
    "    return df"
   ]
  },
  {
   "cell_type": "code",
   "execution_count": 9,
   "metadata": {},
   "outputs": [
    {
     "name": "stdout",
     "output_type": "stream",
     "text": [
      "[677, 831, 66, 121, 191, 259, 262, 469, 514, 554]\n"
     ]
    },
    {
     "data": {
      "text/html": [
       "<div>\n",
       "<style scoped>\n",
       "    .dataframe tbody tr th:only-of-type {\n",
       "        vertical-align: middle;\n",
       "    }\n",
       "\n",
       "    .dataframe tbody tr th {\n",
       "        vertical-align: top;\n",
       "    }\n",
       "\n",
       "    .dataframe thead th {\n",
       "        text-align: right;\n",
       "    }\n",
       "</style>\n",
       "<table border=\"1\" class=\"dataframe\">\n",
       "  <thead>\n",
       "    <tr style=\"text-align: right;\">\n",
       "      <th></th>\n",
       "      <th>ID</th>\n",
       "      <th>Name</th>\n",
       "      <th>Company</th>\n",
       "      <th>Email</th>\n",
       "    </tr>\n",
       "  </thead>\n",
       "  <tbody>\n",
       "    <tr>\n",
       "      <th>0</th>\n",
       "      <td>259</td>\n",
       "      <td>Arleen</td>\n",
       "      <td>West Provider</td>\n",
       "      <td>Theresa.Ivey@facilisisveniamquis.com</td>\n",
       "    </tr>\n",
       "    <tr>\n",
       "      <th>1</th>\n",
       "      <td>191</td>\n",
       "      <td>Jarred</td>\n",
       "      <td>Venture Design Power</td>\n",
       "      <td>Tim@nullatationullamcorper.tv</td>\n",
       "    </tr>\n",
       "    <tr>\n",
       "      <th>2</th>\n",
       "      <td>514</td>\n",
       "      <td>Kara</td>\n",
       "      <td>West East Source</td>\n",
       "      <td>Retha@volutpatdoloremagna.us</td>\n",
       "    </tr>\n",
       "    <tr>\n",
       "      <th>3</th>\n",
       "      <td>677</td>\n",
       "      <td>Kareem</td>\n",
       "      <td>Network Provider Bell</td>\n",
       "      <td>Mellissa@duisiusto.info</td>\n",
       "    </tr>\n",
       "    <tr>\n",
       "      <th>4</th>\n",
       "      <td>831</td>\n",
       "      <td>Karen</td>\n",
       "      <td>Max East</td>\n",
       "      <td>Jacob.Byrne@iustoodiolorem.tv</td>\n",
       "    </tr>\n",
       "    <tr>\n",
       "      <th>5</th>\n",
       "      <td>66</td>\n",
       "      <td>Karin</td>\n",
       "      <td>Federated Internet Star</td>\n",
       "      <td>R.Dowling@consequatfacilisi.info</td>\n",
       "    </tr>\n",
       "    <tr>\n",
       "      <th>6</th>\n",
       "      <td>121</td>\n",
       "      <td>Karol</td>\n",
       "      <td>Vision Vision</td>\n",
       "      <td>S.Hamm@velaliquam.org</td>\n",
       "    </tr>\n",
       "    <tr>\n",
       "      <th>7</th>\n",
       "      <td>554</td>\n",
       "      <td>Karon</td>\n",
       "      <td>Omega Future Star</td>\n",
       "      <td>N.Lynch@dolorautem.info</td>\n",
       "    </tr>\n",
       "    <tr>\n",
       "      <th>8</th>\n",
       "      <td>262</td>\n",
       "      <td>Marie</td>\n",
       "      <td>Studio Design</td>\n",
       "      <td>T.Stansberry@luptatumet.org</td>\n",
       "    </tr>\n",
       "    <tr>\n",
       "      <th>9</th>\n",
       "      <td>469</td>\n",
       "      <td>Tyree</td>\n",
       "      <td>Atlantic Bell</td>\n",
       "      <td>K.Doolittle@nibhexerci.edu</td>\n",
       "    </tr>\n",
       "  </tbody>\n",
       "</table>\n",
       "</div>"
      ],
      "text/plain": [
       "    ID    Name                  Company                                 Email\n",
       "0  259  Arleen            West Provider  Theresa.Ivey@facilisisveniamquis.com\n",
       "1  191  Jarred     Venture Design Power         Tim@nullatationullamcorper.tv\n",
       "2  514    Kara         West East Source          Retha@volutpatdoloremagna.us\n",
       "3  677  Kareem    Network Provider Bell               Mellissa@duisiusto.info\n",
       "4  831   Karen                 Max East         Jacob.Byrne@iustoodiolorem.tv\n",
       "5   66   Karin  Federated Internet Star      R.Dowling@consequatfacilisi.info\n",
       "6  121   Karol            Vision Vision                 S.Hamm@velaliquam.org\n",
       "7  554   Karon        Omega Future Star               N.Lynch@dolorautem.info\n",
       "8  262   Marie            Studio Design           T.Stansberry@luptatumet.org\n",
       "9  469   Tyree            Atlantic Bell            K.Doolittle@nibhexerci.edu"
      ]
     },
     "execution_count": 9,
     "metadata": {},
     "output_type": "execute_result"
    }
   ],
   "source": [
    "search_record('Kareem')"
   ]
  },
  {
   "cell_type": "code",
   "execution_count": null,
   "metadata": {},
   "outputs": [],
   "source": []
  }
 ],
 "metadata": {
  "kernelspec": {
   "display_name": "Python 3",
   "language": "python",
   "name": "python3"
  },
  "language_info": {
   "codemirror_mode": {
    "name": "ipython",
    "version": 3
   },
   "file_extension": ".py",
   "mimetype": "text/x-python",
   "name": "python",
   "nbconvert_exporter": "python",
   "pygments_lexer": "ipython3",
   "version": "3.8.3"
  }
 },
 "nbformat": 4,
 "nbformat_minor": 4
}
