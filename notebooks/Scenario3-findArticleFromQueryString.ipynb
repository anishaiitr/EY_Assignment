{
 "cells": [
  {
   "cell_type": "code",
   "execution_count": 1,
   "metadata": {},
   "outputs": [],
   "source": [
    "import pandas as pd\n",
    "import numpy as np\n",
    "from sklearn.feature_extraction.text import TfidfVectorizer\n",
    "import os\n",
    "import re"
   ]
  },
  {
   "cell_type": "markdown",
   "metadata": {},
   "source": [
    "# Loading data"
   ]
  },
  {
   "cell_type": "code",
   "execution_count": 2,
   "metadata": {},
   "outputs": [],
   "source": [
    "folders = os.listdir('../data/bbc')\n",
    "folders.remove('.DS_Store')\n",
    "folders.remove('README.TXT')"
   ]
  },
  {
   "cell_type": "markdown",
   "metadata": {},
   "source": [
    "# Putting all the data in a data frame"
   ]
  },
  {
   "cell_type": "code",
   "execution_count": 3,
   "metadata": {},
   "outputs": [],
   "source": [
    "data = pd.DataFrame()\n",
    "k=0\n",
    "for f in folders:\n",
    "    files = os.listdir('../data/bbc/{}'.format(f))\n",
    "    for file in files:\n",
    "        if (f != 'sport') & (file != '199.txt'):\n",
    "            dt = open('../data/bbc/{}/{}'.format(f,file), 'r')\n",
    "            data.loc[k,'topic'] = f\n",
    "            data.loc[k,'article'] = dt.read()\n",
    "            dt.close()\n",
    "            k+=1"
   ]
  },
  {
   "cell_type": "code",
   "execution_count": 4,
   "metadata": {},
   "outputs": [
    {
     "data": {
      "text/html": [
       "<div>\n",
       "<style scoped>\n",
       "    .dataframe tbody tr th:only-of-type {\n",
       "        vertical-align: middle;\n",
       "    }\n",
       "\n",
       "    .dataframe tbody tr th {\n",
       "        vertical-align: top;\n",
       "    }\n",
       "\n",
       "    .dataframe thead th {\n",
       "        text-align: right;\n",
       "    }\n",
       "</style>\n",
       "<table border=\"1\" class=\"dataframe\">\n",
       "  <thead>\n",
       "    <tr style=\"text-align: right;\">\n",
       "      <th></th>\n",
       "      <th>topic</th>\n",
       "      <th>article</th>\n",
       "    </tr>\n",
       "  </thead>\n",
       "  <tbody>\n",
       "    <tr>\n",
       "      <th>0</th>\n",
       "      <td>entertainment</td>\n",
       "      <td>Musicians to tackle US red tape\\n\\nMusicians' ...</td>\n",
       "    </tr>\n",
       "    <tr>\n",
       "      <th>1</th>\n",
       "      <td>entertainment</td>\n",
       "      <td>U2's desire to be number one\\n\\nU2, who have w...</td>\n",
       "    </tr>\n",
       "    <tr>\n",
       "      <th>2</th>\n",
       "      <td>entertainment</td>\n",
       "      <td>Rocker Doherty in on-stage fight\\n\\nRock singe...</td>\n",
       "    </tr>\n",
       "    <tr>\n",
       "      <th>3</th>\n",
       "      <td>entertainment</td>\n",
       "      <td>Snicket tops US box office chart\\n\\nThe film a...</td>\n",
       "    </tr>\n",
       "    <tr>\n",
       "      <th>4</th>\n",
       "      <td>entertainment</td>\n",
       "      <td>Ocean's Twelve raids box office\\n\\nOcean's Twe...</td>\n",
       "    </tr>\n",
       "  </tbody>\n",
       "</table>\n",
       "</div>"
      ],
      "text/plain": [
       "           topic                                            article\n",
       "0  entertainment  Musicians to tackle US red tape\\n\\nMusicians' ...\n",
       "1  entertainment  U2's desire to be number one\\n\\nU2, who have w...\n",
       "2  entertainment  Rocker Doherty in on-stage fight\\n\\nRock singe...\n",
       "3  entertainment  Snicket tops US box office chart\\n\\nThe film a...\n",
       "4  entertainment  Ocean's Twelve raids box office\\n\\nOcean's Twe..."
      ]
     },
     "execution_count": 4,
     "metadata": {},
     "output_type": "execute_result"
    }
   ],
   "source": [
    "data.head()"
   ]
  },
  {
   "cell_type": "markdown",
   "metadata": {},
   "source": [
    "# Data cleaning"
   ]
  },
  {
   "cell_type": "code",
   "execution_count": 5,
   "metadata": {},
   "outputs": [],
   "source": [
    "def clean_data(row):\n",
    "    # Remove Unicode\n",
    "    document_test = re.sub(r'[^\\x00-\\x7F]+', ' ', row)\n",
    "    # Remove Mentions\n",
    "    document_test = re.sub(r'@\\w+', '', document_test)\n",
    "    # Lowercase the document\n",
    "    document_test = document_test.lower()\n",
    "    # Lowercase the numbers\n",
    "    document_test = re.sub(r'[0-9]', '', document_test)\n",
    "    # Remove the doubled space\n",
    "    document_test = re.sub(r'\\s{2,}', ' ', document_test)\n",
    "    return document_test\n",
    "\n",
    "data['article_clean'] = data['article'].apply(clean_data)"
   ]
  },
  {
   "cell_type": "markdown",
   "metadata": {},
   "source": [
    "# Creating TF-IDF matrix"
   ]
  },
  {
   "cell_type": "code",
   "execution_count": 6,
   "metadata": {},
   "outputs": [],
   "source": [
    "def get_tfidf(data):\n",
    "    vectorizer = TfidfVectorizer()\n",
    "    X_tfidf = vectorizer.fit_transform(data.loc[:,'article_clean'])\n",
    "    X = X_tfidf.T.toarray()\n",
    "    df = pd.DataFrame(X, index=vectorizer.get_feature_names())\n",
    "    return df, vectorizer "
   ]
  },
  {
   "cell_type": "markdown",
   "metadata": {},
   "source": [
    "# Function to search the articles collection on query string"
   ]
  },
  {
   "cell_type": "code",
   "execution_count": 7,
   "metadata": {},
   "outputs": [],
   "source": [
    "def get_similar_articles(q, data):\n",
    "    print(\"query:\", q)\n",
    "    # Convert the query become a vector\n",
    "    df, vectorizer = get_tfidf(data)\n",
    "    q = [q]\n",
    "    q_vec = vectorizer.transform(q).toarray().reshape(df.shape[0],)\n",
    "    sim = {}\n",
    "    # Calculate the similarity\n",
    "    for i in range(len(data)):\n",
    "        sim[i] = np.dot(df.loc[:, i].values, q_vec) / np.linalg.norm(df.loc[:, i]) * np.linalg.norm(q_vec)\n",
    "\n",
    "    # Sort the values \n",
    "    sim_sorted = sorted(sim.items(), key=lambda x: x[1], reverse=True)\n",
    "    art = max(sim, key=sim.get)\n",
    "    print(\"Cosine Similaritas:\", sim[art])\n",
    "    doc_idx = int(art)\n",
    "    print(doc_idx)\n",
    "    print(\"Document:\", data.loc[doc_idx,'article'])\n",
    "    # Print the articles and their similarity values\n",
    "    "
   ]
  },
  {
   "cell_type": "code",
   "execution_count": 8,
   "metadata": {},
   "outputs": [
    {
     "name": "stdout",
     "output_type": "stream",
     "text": [
      "query: frontman movie\n",
      "Cosine Similaritas: 0.16644100210162358\n",
      "211\n",
      "Document: Lost Doors frontman movie found\n",
      "\n",
      "Historians in Florida have discovered a 40-year-old clip of a clean-cut Jim Morrison appearing in a promotional film for his university.\n",
      "\n",
      "The 1964 film shows the Doors frontman, who died aged 27 in 1971, playing the part of a young man who had been rejected by Florida State University. Morrison is seen quizzing a college administrator on why he was refused. \"But what happened? How come my parents and the state and the university didn't look ahead?\" he is seen asking.\n",
      "\n",
      "\"It's incredible. He's so clean cut and soft-spoken,\" said Florida state archivist Jody Norman. \"We know he was at Florida State University for a period of time and he did some acting when he was there,\" Norman added. The Doors were one of the most influential bands of the 1960s, with hits including Light My Fire and Riders On The Storm. Morrison was notorious for his wild lifestyle - and was accused of exposing himself and simulating a sex act at a Miami concert in 1969. He was found dead in the bath of his Paris apartment and died from heart problems, aggravated by alcohol. A coroner recorded a verdict of death by natural causes and his grave at the city's Pere Lachaise ceremony has become a shrine for fans.\n",
      "\n"
     ]
    }
   ],
   "source": [
    "q1 = 'frontman movie'\n",
    "get_similar_articles(q1, data)"
   ]
  },
  {
   "cell_type": "code",
   "execution_count": null,
   "metadata": {},
   "outputs": [],
   "source": []
  }
 ],
 "metadata": {
  "kernelspec": {
   "display_name": "Python 3",
   "language": "python",
   "name": "python3"
  },
  "language_info": {
   "codemirror_mode": {
    "name": "ipython",
    "version": 3
   },
   "file_extension": ".py",
   "mimetype": "text/x-python",
   "name": "python",
   "nbconvert_exporter": "python",
   "pygments_lexer": "ipython3",
   "version": "3.8.3"
  }
 },
 "nbformat": 4,
 "nbformat_minor": 4
}
